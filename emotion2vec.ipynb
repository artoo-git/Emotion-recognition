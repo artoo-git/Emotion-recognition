{
 "cells": [
  {
   "cell_type": "markdown",
   "id": "0",
   "metadata": {},
   "source": [
    "# emotion2vec\n",
    "\n",
    "emotion2vec was pre-trained on large datasets to learn meaningful acoustic-emotional patterns, creating a universal emotional representation space. The embeddings can be used for:\n",
    "\n",
    "* Advanced visualization via dimensionality reduction (t-SNE/UMAP)\n",
    "* Custom emotion classifiers (the basic labels are just a simple classifier on top of these embeddings)\n",
    "* Cross-corpus transfer learning\n",
    "* Detecting emotional intensity gradients and mixed emotions\n",
    "\n"
   ]
  },
  {
   "cell_type": "code",
   "execution_count": null,
   "id": "1",
   "metadata": {},
   "outputs": [],
   "source": [
    "from funasr import AutoModel\n",
    "\n",
    "# model=\"iic/emotion2vec_base\"\n",
    "# model=\"iic/emotion2vec_base_finetuned\"\n",
    "# model=\"iic/emotion2vec_plus_seed\"\n",
    "# model=\"iic/emotion2vec_plus_base\"\n",
    "model_id = \"iic/emotion2vec_plus_large\"\n",
    "\n",
    "model = AutoModel(\n",
    "    model=model_id,\n",
    "    hub=\"hf\",  # \"ms\" or \"modelscope\" for China mainland users; \"hf\" or \"huggingface\" for other overseas users\n",
    ")"
   ]
  },
  {
   "cell_type": "code",
   "execution_count": null,
   "id": "2",
   "metadata": {},
   "outputs": [],
   "source": [
    "import librosa\n",
    "\n",
    "# 2. Load audio file\n",
    "audio_path = \"../data/audiotest.wav\"\n",
    "waveform, sample_rate = librosa.load(audio_path, sr=16000)  # Resample to 16kHz\n"
   ]
  },
  {
   "cell_type": "markdown",
   "id": "3",
   "metadata": {},
   "source": [
    "## Output\n",
    "The emotion labels (angry, sad, etc.) are just the final classification layer's output. \n",
    "\n",
    "The emotion embeddings, which are high-dimensional vectors (1024 dimensions in this case) that:\n",
    "\n",
    "* Capture emotional intensity gradients\n",
    "* Represent mixed emotions better than single labels\n",
    "* Allow cross-corpus transfer learning\n",
    "* Enable visualization of emotional speech in embedding space\n",
    "\n",
    "\n",
    "The Emotion2vec model achieves state-of-the-art performance on the IEMOCAP dataset using only linear classification layers on top of these embeddings. This suggest that these embeddings have good discriminative power to detect emotional voice characteristics."
   ]
  },
  {
   "cell_type": "code",
   "execution_count": null,
   "id": "4",
   "metadata": {},
   "outputs": [],
   "source": [
    "rec_result = model.generate(waveform, \n",
    "                           output_dir=\"./outputs\", \n",
    "                           granularity=\"utterance\", \n",
    "                           extract_embedding=True)\n",
    "rec_embeddings=rec_result[0]['feats']\n",
    "print(f\"Embedding dimensionality: {rec_embeddings.shape}\")"
   ]
  },
  {
   "cell_type": "markdown",
   "id": "5",
   "metadata": {},
   "source": [
    "# Tracking Emotional tone changes in a sample audio segment"
   ]
  },
  {
   "cell_type": "code",
   "execution_count": null,
   "id": "6",
   "metadata": {},
   "outputs": [],
   "source": [
    "\n",
    "import librosa\n",
    "import numpy as np\n",
    "import matplotlib.pyplot as plt\n",
    "from funasr import AutoModel\n",
    "import pandas as pd\n",
    "\n",
    "# Define parameters for segmentation\n",
    "segment_length = 3  # seconds\n",
    "hop_length = 1      # seconds (for overlapping windows)\n",
    "\n",
    "# Calculate samples\n",
    "segment_samples = int(segment_length * sample_rate)\n",
    "hop_samples = int(hop_length * sample_rate)\n",
    "\n",
    "# Create temporary segment files and analyze\n",
    "emotions_over_time = []\n",
    "timestamps = []\n",
    "\n",
    "for start_idx in range(0, len(waveform) - segment_samples + 1, hop_samples):\n",
    "    # Extract segment\n",
    "    segment = waveform[start_idx:start_idx + segment_samples]\n",
    "\n",
    "    # Save temporary segment\n",
    "    temp_path = \"temp_segment.wav\"\n",
    "    import soundfile as sf\n",
    "    sf.write(temp_path, segment, sample_rate)\n",
    "\n",
    "    # Analyze segment\n",
    "    result = model.generate(temp_path, extract_embedding=False)\n",
    "\n",
    "    # Get emotion scores\n",
    "    scores = result[0]['scores']\n",
    "    labels = result[0]['labels']\n",
    "\n",
    "    # Record timestamp and scores\n",
    "    timestamp = start_idx / sample_rate\n",
    "    timestamps.append(timestamp)\n",
    "    emotions_over_time.append(scores)\n",
    "\n",
    "# Convert to DataFrame for easier plotting\n",
    "df = pd.DataFrame(emotions_over_time, index=timestamps)\n",
    "df.columns = [label.split('/')[1] if '/' in label else label for label in labels]  # Use English labels\n",
    "\n",
    "# Plot emotion changes over time\n",
    "plt.figure(figsize=(15, 6))\n",
    "for emotion in df.columns:\n",
    "    plt.plot(df.index, df[emotion], label=emotion)\n",
    "\n",
    "plt.xlabel('Time (seconds)')\n",
    "plt.ylabel('Emotion Probability')\n",
    "plt.title('Emotion Changes Over Time')\n",
    "plt.legend()\n",
    "plt.grid(True)\n",
    "plt.show()"
   ]
  },
  {
   "cell_type": "markdown",
   "id": "7",
   "metadata": {},
   "source": [
    "# Embeddings compression for a 2D visual on emotion signal overtime"
   ]
  },
  {
   "cell_type": "code",
   "execution_count": null,
   "id": "8",
   "metadata": {},
   "outputs": [],
   "source": [
    "embeddings_over_time = []\n",
    "\n",
    "for start_idx in range(0, len(waveform) - segment_samples + 1, hop_samples):\n",
    "    # Extract segment\n",
    "    segment = waveform[start_idx:start_idx + segment_samples]\n",
    "\n",
    "    # Save temporary segment\n",
    "    temp_path = \"temp_segment.wav\"\n",
    "    import soundfile as sf\n",
    "    sf.write(temp_path, segment, sample_rate)\n",
    "\n",
    "    # Analyze segment\n",
    "    result = model.generate(temp_path, extract_embedding=True)\n",
    "\n",
    "    # Store embedding with timestamp using the correct key\n",
    "    timestamp = start_idx / sample_rate\n",
    "    embeddings_over_time.append({\n",
    "        'timestamp': timestamp,\n",
    "        'embedding': result[0]['feats']  # Changed from 'embedding' to 'feats'\n",
    "    })\n",
    "\n",
    "\n",
    "# Use UMAP to visualize the emotional trajectory\n",
    "from umap import UMAP\n",
    "import numpy as np\n",
    "\n",
    "embeddings = np.array([e['embedding'] for e in embeddings_over_time])\n",
    "timestamps = [e['timestamp'] for e in embeddings_over_time]\n",
    "\n",
    "# Reduce to 2D for visualization\n",
    "reducer = UMAP(random_state=42,n_neighbors=15, min_dist=0.1, n_components=2)\n",
    "embedding_2d = reducer.fit_transform(embeddings)\n",
    "\n",
    "# Create a connected line plot instead of scattered points\n",
    "plt.figure(figsize=(10, 8))\n",
    "plt.scatter(embedding_2d[:, 0], embedding_2d[:, 1], c=timestamps, cmap='viridis', alpha=0.7)\n",
    "plt.plot(embedding_2d[:, 0], embedding_2d[:, 1], 'k-', alpha=0.3)  # Connect points with lines\n",
    "plt.colorbar(label='Time (seconds)')\n",
    "plt.title('Emotional Trajectory Over Time')\n",
    "plt.show()"
   ]
  },
  {
   "cell_type": "code",
   "execution_count": null,
   "id": "9",
   "metadata": {},
   "outputs": [],
   "source": []
  }
 ],
 "metadata": {
  "kernelspec": {
   "display_name": "Python 3 (ipykernel)",
   "language": "python",
   "name": "python3"
  },
  "language_info": {
   "codemirror_mode": {
    "name": "ipython",
    "version": 3
   },
   "file_extension": ".py",
   "mimetype": "text/x-python",
   "name": "python",
   "nbconvert_exporter": "python",
   "pygments_lexer": "ipython3",
   "version": "3.12.3"
  }
 },
 "nbformat": 4,
 "nbformat_minor": 5
}
